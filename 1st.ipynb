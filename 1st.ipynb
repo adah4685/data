{
  "nbformat": 4,
  "nbformat_minor": 0,
  "metadata": {
    "colab": {
      "name": "Untitled4.ipynb",
      "provenance": [],
      "authorship_tag": "ABX9TyNKvoZgwFwZ7vOvLDKUerEL",
      "include_colab_link": true
    },
    "kernelspec": {
      "name": "python3",
      "display_name": "Python 3"
    },
    "language_info": {
      "name": "python"
    }
  },
  "cells": [
    {
      "cell_type": "markdown",
      "metadata": {
        "id": "view-in-github",
        "colab_type": "text"
      },
      "source": [
        "<a href=\"https://colab.research.google.com/github/adah4685/data/blob/main/1st.ipynb\" target=\"_parent\"><img src=\"https://colab.research.google.com/assets/colab-badge.svg\" alt=\"Open In Colab\"/></a>"
      ]
    },
    {
      "cell_type": "code",
      "execution_count": null,
      "metadata": {
        "id": "DfN3yotBYg_f"
      },
      "outputs": [],
      "source": [
        "import pandas as pd\n",
        "path = \"https://github.com/adah4685/patient1/blob/main/patient1-1.xlsx?raw=true\"\n",
        "P=pd.read_excel(path)\n",
        "P"
      ]
    },
    {
      "cell_type": "code",
      "source": [
        "df.drop(df[(df['Unit_Price'] >400) & (df['Unit_Price'] < 600)].index, inplace=True)\n",
        "\n",
        "df"
      ],
      "metadata": {
        "id": "tKvb4QzfYiD2"
      },
      "execution_count": null,
      "outputs": []
    }
  ]
}